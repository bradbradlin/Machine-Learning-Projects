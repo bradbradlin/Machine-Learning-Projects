{
  "nbformat": 4,
  "nbformat_minor": 0,
  "metadata": {
    "kernelspec": {
      "display_name": "Python 3",
      "language": "python",
      "name": "python3"
    },
    "language_info": {
      "codemirror_mode": {
        "name": "ipython",
        "version": 3
      },
      "file_extension": ".py",
      "mimetype": "text/x-python",
      "name": "python",
      "nbconvert_exporter": "python",
      "pygments_lexer": "ipython3",
      "version": "3.7.4"
    },
    "colab": {
      "provenance": [],
      "collapsed_sections": [],
      "toc_visible": true,
      "include_colab_link": true
    },
    "accelerator": "TPU"
  },
  "cells": [
    {
      "cell_type": "markdown",
      "metadata": {
        "id": "view-in-github",
        "colab_type": "text"
      },
      "source": [
        "<a href=\"https://colab.research.google.com/github/bradbradlin/Machine-Learning-Projects/blob/main/Speech_Emotion_Recognition_(Train)_TRILL_19_%2B_FCN.ipynb\" target=\"_parent\"><img src=\"https://colab.research.google.com/assets/colab-badge.svg\" alt=\"Open In Colab\"/></a>"
      ]
    },
    {
      "cell_type": "markdown",
      "metadata": {
        "id": "7CsHv7KgSR8e"
      },
      "source": [
        "2020/7/20\n",
        "\n",
        "https://data-flair.training/blogs/python-mini-project-speech-emotion-recognition/\n",
        "https://towardsdatascience.com/how-to-build-efficient-audio-data-pipelines-with-tensorflow-2-0-b3133474c3c1"
      ]
    },
    {
      "cell_type": "code",
      "metadata": {
        "id": "zx7_47HYSR8f",
        "colab": {
          "base_uri": "https://localhost:8080/",
          "height": 35
        },
        "outputId": "d757115a-5eee-4ae8-9454-496fe8bade5f"
      },
      "source": [
        "import os, glob, pickle\n",
        "import numpy as np\n",
        "from sklearn.metrics import accuracy_score\n",
        "from sklearn.model_selection import train_test_split\n",
        "import pandas as pd\n",
        "import tensorflow as tf\n",
        "import wave\n",
        "import struct\n",
        "import resampy\n",
        "import numpy as np\n",
        "print(tf.__version__)"
      ],
      "execution_count": null,
      "outputs": [
        {
          "output_type": "stream",
          "text": [
            "2.2.0\n"
          ],
          "name": "stdout"
        }
      ]
    },
    {
      "cell_type": "code",
      "metadata": {
        "id": "wFFftUsdTjGT",
        "colab": {
          "base_uri": "https://localhost:8080/",
          "height": 126
        },
        "outputId": "7847477b-a3f9-4b16-e89b-f3e2c9330223"
      },
      "source": [
        "from google.colab import drive\n",
        "drive.mount('/content/gdrive')"
      ],
      "execution_count": null,
      "outputs": [
        {
          "output_type": "stream",
          "text": [
            "Go to this URL in a browser: https://accounts.google.com/o/oauth2/auth?client_id=947318989803-6bn6qk8qdgf4n4g3pfee6491hc0brc4i.apps.googleusercontent.com&redirect_uri=urn%3aietf%3awg%3aoauth%3a2.0%3aoob&response_type=code&scope=email%20https%3a%2f%2fwww.googleapis.com%2fauth%2fdocs.test%20https%3a%2f%2fwww.googleapis.com%2fauth%2fdrive%20https%3a%2f%2fwww.googleapis.com%2fauth%2fdrive.photos.readonly%20https%3a%2f%2fwww.googleapis.com%2fauth%2fpeopleapi.readonly\n",
            "\n",
            "Enter your authorization code:\n",
            "··········\n",
            "Mounted at /content/gdrive\n"
          ],
          "name": "stdout"
        }
      ]
    },
    {
      "cell_type": "code",
      "metadata": {
        "id": "Qs2Epr8-TrRE",
        "colab": {
          "base_uri": "https://localhost:8080/"
        },
        "outputId": "f4460ac9-f799-497e-edb4-4ae97dd5f574"
      },
      "source": [
        "%cd /content/gdrive/My Drive/Colab Notebooks/Audio"
      ],
      "execution_count": null,
      "outputs": [
        {
          "output_type": "stream",
          "text": [
            "[Errno 2] No such file or directory: '/content/gdrive/My Drive/Colab Notebooks/AI trading project'\n",
            "/content\n"
          ],
          "name": "stdout"
        }
      ]
    },
    {
      "cell_type": "code",
      "metadata": {
        "id": "-eYm8d_mSR8k"
      },
      "source": [
        "#DataFlair - Emotions in the RAVDESS dataset\n",
        "emotions={\n",
        "  'n':'neutral',\n",
        "#  '02':'calm',\n",
        "  'h':'happy',\n",
        "  'sa':'sad',\n",
        "  'a':'angry',\n",
        "  'f':'fearful',\n",
        "  'd':'disgust',\n",
        "  'su':'surprised'\n",
        "}\n",
        "#DataFlair - Emotions to observe\n",
        "observed_emotions=['angry','neutral']"
      ],
      "execution_count": null,
      "outputs": []
    },
    {
      "cell_type": "code",
      "metadata": {
        "id": "bNfPUk7JSR8o",
        "colab": {
          "base_uri": "https://localhost:8080/",
          "height": 35
        },
        "outputId": "2df0a9ae-a79c-45b1-e2e2-af035c1f996c"
      },
      "source": [
        "# Load TRILL embedding\n",
        "x_a = pickle.load( open( \"X_emb_layer19.pkl\", \"rb\" ) )\n",
        "x_b = pickle.load( open( \"X_emb_layer19_1000.pkl\", \"rb\" ) )\n",
        "x_c = pickle.load( open( \"X_emb_layer19_2000.pkl\", \"rb\" ) )\n",
        "y = pickle.load( open( \"label.pkl\", \"rb\" ) )\n",
        "\n",
        "print(len(y))"
      ],
      "execution_count": null,
      "outputs": [
        {
          "output_type": "stream",
          "text": [
            "3337\n"
          ],
          "name": "stdout"
        }
      ]
    },
    {
      "cell_type": "code",
      "metadata": {
        "id": "jFhxly84SR8t",
        "outputId": "9da8ce74-3ebb-477b-abb2-837daf5a84e2"
      },
      "source": [
        "x_a[0].numpy().reshape(-1).shape"
      ],
      "execution_count": null,
      "outputs": [
        {
          "output_type": "execute_result",
          "data": {
            "text/plain": [
              "(245760,)"
            ]
          },
          "metadata": {
            "tags": []
          },
          "execution_count": 4
        }
      ]
    },
    {
      "cell_type": "code",
      "metadata": {
        "id": "mMPcNSYySR8y",
        "colab": {
          "base_uri": "https://localhost:8080/",
          "height": 70
        },
        "outputId": "b44bf909-7166-420a-a57a-3b748344668d"
      },
      "source": [
        "x = []\n",
        "fix_length = 245760\n",
        "for i in x_a:\n",
        "    interm = tf.reshape(i, [-1])\n",
        "    if len(interm) < fix_length:\n",
        "        while len(interm) < fix_length:\n",
        "            interm = tf.concat([interm, interm], 0)\n",
        "    interm = interm[:fix_length]\n",
        "    x.append(interm)\n",
        "print(len(x))\n",
        "\n",
        "for i in x_b:\n",
        "    interm = tf.reshape(i, [-1])\n",
        "    if len(interm) < fix_length:\n",
        "        while len(interm) < fix_length:\n",
        "            interm = tf.concat([interm, interm], 0)\n",
        "    interm = interm[:fix_length]\n",
        "    x.append(interm)\n",
        "print(len(x))\n",
        "\n",
        "for i in x_c:\n",
        "    interm = tf.reshape(i, [-1])\n",
        "    if len(interm) < fix_length:\n",
        "        while len(interm) < fix_length:\n",
        "            interm = tf.concat([interm, interm], 0)\n",
        "    interm = interm[:fix_length]\n",
        "    x.append(interm)\n",
        "print(len(x))\n"
      ],
      "execution_count": null,
      "outputs": [
        {
          "output_type": "stream",
          "text": [
            "1000\n",
            "2000\n",
            "3337\n"
          ],
          "name": "stdout"
        }
      ]
    },
    {
      "cell_type": "code",
      "metadata": {
        "id": "88eyIZKlSR84",
        "colab": {
          "base_uri": "https://localhost:8080/",
          "height": 52
        },
        "outputId": "474826a9-50d6-4335-839d-f8e61ebfe9fb"
      },
      "source": [
        "x_train, x_test, y_train, y_test = train_test_split(x, \n",
        "                                                 y, \n",
        "                                                 train_size=0.75, \n",
        "                                                 random_state=20)\n",
        "print(len(x_train), len(x_test))\n",
        "print(len(y_train), len(y_test))"
      ],
      "execution_count": null,
      "outputs": [
        {
          "output_type": "stream",
          "text": [
            "2502 835\n",
            "2502 835\n"
          ],
          "name": "stdout"
        }
      ]
    },
    {
      "cell_type": "markdown",
      "metadata": {
        "id": "oEAyQPidSR88"
      },
      "source": [
        "### Fully connected network"
      ]
    },
    {
      "cell_type": "code",
      "metadata": {
        "id": "EmFncxprSR89"
      },
      "source": [
        "from tensorflow.keras import Sequential\n",
        "from tensorflow.keras.layers import Conv1D, Activation,Dropout, MaxPooling1D, Flatten, Dense\n",
        "from tensorflow.keras.callbacks import (\n",
        "    ReduceLROnPlateau,\n",
        "    EarlyStopping,\n",
        "    ModelCheckpoint,\n",
        "    TensorBoard\n",
        ")"
      ],
      "execution_count": null,
      "outputs": []
    },
    {
      "cell_type": "code",
      "metadata": {
        "id": "Oq08UZ4fSR9A"
      },
      "source": [
        "BATCH_SIZE = 16\n",
        "AUTOTUNE = tf.data.experimental.AUTOTUNE\n",
        "data_size = len(y_train)\n",
        "def _input_fn(x,y):\n",
        "    ds=tf.data.Dataset.from_tensor_slices((x,y))\n",
        "    ds=ds.shuffle(buffer_size=data_size)\n",
        "    ds = ds.repeat()  \n",
        "    ds = ds.batch(BATCH_SIZE)\n",
        "    ds = ds.prefetch(buffer_size=AUTOTUNE)\n",
        "    return ds"
      ],
      "execution_count": null,
      "outputs": []
    },
    {
      "cell_type": "code",
      "metadata": {
        "id": "YFuJqpR-SR9D"
      },
      "source": [
        "# importing one hot encoder from sklearn \n",
        "from sklearn.preprocessing import OneHotEncoder \n",
        "\n",
        "# creating one hot encoder object by default \n",
        "# entire data passed is one hot encoded \n",
        "onehotencoder = OneHotEncoder() \n",
        "\n",
        "y_train1 = onehotencoder.fit_transform(np.array(y_train).reshape(-1, 1)).toarray() \n",
        "y_test1 = onehotencoder.fit_transform(np.array(y_test).reshape(-1, 1)).toarray()"
      ],
      "execution_count": null,
      "outputs": []
    },
    {
      "cell_type": "code",
      "metadata": {
        "id": "ljqLKJaISR9G"
      },
      "source": [
        "train_ds2 = _input_fn(x_train, y_train1)\n",
        "val_ds2 = _input_fn(x_test, y_test1)"
      ],
      "execution_count": null,
      "outputs": []
    },
    {
      "cell_type": "code",
      "metadata": {
        "id": "RGwo4SrgSR9J",
        "colab": {
          "base_uri": "https://localhost:8080/",
          "height": 266
        },
        "outputId": "5b358628-0ca8-4690-b949-651b45005dcf"
      },
      "source": [
        "for example in train_ds2.take(1):\n",
        "    print(example[0])"
      ],
      "execution_count": null,
      "outputs": [
        {
          "output_type": "stream",
          "text": [
            "tf.Tensor(\n",
            "[[ 0.01985281  0.22948861 -0.22332656 ... -0.08037344 -0.15773186\n",
            "   0.09650982]\n",
            " [ 0.18867767  0.23138337 -0.0474422  ... -0.01412479 -0.19312967\n",
            "   0.07673208]\n",
            " [-0.29067785  0.13682337 -0.01023724 ... -0.0324953  -0.85322803\n",
            "   0.13276677]\n",
            " ...\n",
            " [ 0.078351    0.3146279  -0.02084058 ...  0.02213127 -0.29095343\n",
            "   0.47578004]\n",
            " [ 0.00175161 -0.00256302 -0.14296472 ... -0.03194676 -0.1560428\n",
            "   0.08011178]\n",
            " [ 0.1604246   0.22687659 -0.04744163 ... -0.03378016 -0.17951378\n",
            "   0.10858013]], shape=(16, 245760), dtype=float32)\n"
          ],
          "name": "stdout"
        }
      ]
    },
    {
      "cell_type": "code",
      "metadata": {
        "id": "Jl5rWt6hSR9M"
      },
      "source": [
        "model3 = Sequential()\n",
        "#model3.add(Flatten(input_shape=(x_train_em.shape[1],1)))\n",
        "model3.add(Dense(100, input_shape=(x_train[0].shape[0],))) #1\n",
        "model3.add(Dense(80)) #2\n",
        "model3.add(Dense(60)) #3\n",
        "model3.add(Dense(40)) #4\n",
        "model3.add(Dense(20)) #5\n",
        "model3.add(Dense(len(observed_emotions))) #6\n",
        "model3.add(Activation('softmax'))"
      ],
      "execution_count": null,
      "outputs": []
    },
    {
      "cell_type": "code",
      "metadata": {
        "id": "q7ncP_jxSR9Q",
        "colab": {
          "base_uri": "https://localhost:8080/",
          "height": 408
        },
        "outputId": "06fc897b-3f6b-43d3-80f4-c968374c4639"
      },
      "source": [
        "model3.summary()"
      ],
      "execution_count": null,
      "outputs": [
        {
          "output_type": "stream",
          "text": [
            "Model: \"sequential\"\n",
            "_________________________________________________________________\n",
            "Layer (type)                 Output Shape              Param #   \n",
            "=================================================================\n",
            "dense (Dense)                (None, 100)               24576100  \n",
            "_________________________________________________________________\n",
            "dense_1 (Dense)              (None, 80)                8080      \n",
            "_________________________________________________________________\n",
            "dense_2 (Dense)              (None, 60)                4860      \n",
            "_________________________________________________________________\n",
            "dense_3 (Dense)              (None, 40)                2440      \n",
            "_________________________________________________________________\n",
            "dense_4 (Dense)              (None, 20)                820       \n",
            "_________________________________________________________________\n",
            "dense_5 (Dense)              (None, 2)                 42        \n",
            "_________________________________________________________________\n",
            "activation (Activation)      (None, 2)                 0         \n",
            "=================================================================\n",
            "Total params: 24,592,342\n",
            "Trainable params: 24,592,342\n",
            "Non-trainable params: 0\n",
            "_________________________________________________________________\n"
          ],
          "name": "stdout"
        }
      ]
    },
    {
      "cell_type": "code",
      "metadata": {
        "id": "GRTWbFg4SR9T"
      },
      "source": [
        "adam = tf.keras.optimizers.Adam(lr=1e-4, decay=1e-6)\n",
        "model3.compile(loss='categorical_crossentropy', optimizer=adam, metrics=['accuracy'])"
      ],
      "execution_count": null,
      "outputs": []
    },
    {
      "cell_type": "code",
      "metadata": {
        "id": "4dCuCk8HSR9X"
      },
      "source": [
        "checkpoint_path = \"model\\\\VGGish_NN_emotion_{epoch}.ckpt\"\n",
        "checkpoint_dir = os.path.dirname(checkpoint_path)\n",
        "#create a callback\n",
        "# cp_callback = tf.keras.callbacks.ModelCheckpoint(filepath=checkpoint_path,\n",
        "#                                                save_weights_only=True,\n",
        "#                                                verbose=1,)\n",
        "# es = EarlyStopping(monitor='val_loss', mode='min', verbose=1, patience=5)\n",
        "cp_callbacks = [\n",
        "    ReduceLROnPlateau(verbose=1),\n",
        "    EarlyStopping(patience=5, verbose=1),\n",
        "    ModelCheckpoint('checkpoints/TRILL_FCN_layer19_{epoch}.tf',\n",
        "                    verbose=1, save_weights_only=True),\n",
        "    TensorBoard(log_dir='logs')\n",
        "]\n"
      ],
      "execution_count": null,
      "outputs": []
    },
    {
      "cell_type": "code",
      "metadata": {
        "id": "s0Egw9QsSR9Z",
        "colab": {
          "base_uri": "https://localhost:8080/",
          "height": 675
        },
        "outputId": "168dcec8-fafc-4dd8-b8e0-b94c4bace06c"
      },
      "source": [
        "#import datetime\n",
        "#!rm -rf ./logs/\n",
        "#log_dir=\"logs\\\\fit\\\\\" + datetime.datetime.now().strftime(\"%Y%m%d-%H%M%S\")\n",
        "#tensorboard_callback = tf.keras.callbacks.TensorBoard(log_dir=log_dir, histogram_freq=1)\n",
        "history = model3.fit(train_ds2, \n",
        "                    epochs=10,\n",
        "                    steps_per_epoch=10,\n",
        "                    validation_steps=4,\n",
        "                    validation_data=val_ds2,\n",
        "                    callbacks=cp_callbacks)"
      ],
      "execution_count": null,
      "outputs": [
        {
          "output_type": "stream",
          "text": [
            "Epoch 1/10\n",
            "10/10 [==============================] - ETA: 0s - loss: 0.0785 - accuracy: 0.9812\n",
            "Epoch 00001: saving model to checkpoints/TRILL_FCN_layer19_1.tf\n",
            "10/10 [==============================] - 6s 598ms/step - loss: 0.0785 - accuracy: 0.9812 - val_loss: 0.3701 - val_accuracy: 0.8906 - lr: 1.0000e-04\n",
            "Epoch 2/10\n",
            "10/10 [==============================] - ETA: 0s - loss: 0.0708 - accuracy: 0.9688\n",
            "Epoch 00002: saving model to checkpoints/TRILL_FCN_layer19_2.tf\n",
            "10/10 [==============================] - 5s 545ms/step - loss: 0.0708 - accuracy: 0.9688 - val_loss: 0.2788 - val_accuracy: 0.9219 - lr: 1.0000e-04\n",
            "Epoch 3/10\n",
            "10/10 [==============================] - ETA: 0s - loss: 0.1373 - accuracy: 0.9438\n",
            "Epoch 00003: saving model to checkpoints/TRILL_FCN_layer19_3.tf\n",
            "10/10 [==============================] - 6s 566ms/step - loss: 0.1373 - accuracy: 0.9438 - val_loss: 0.3486 - val_accuracy: 0.9062 - lr: 1.0000e-04\n",
            "Epoch 4/10\n",
            "10/10 [==============================] - ETA: 0s - loss: 0.1662 - accuracy: 0.9250\n",
            "Epoch 00004: saving model to checkpoints/TRILL_FCN_layer19_4.tf\n",
            "10/10 [==============================] - 6s 593ms/step - loss: 0.1662 - accuracy: 0.9250 - val_loss: 0.0782 - val_accuracy: 0.9844 - lr: 1.0000e-04\n",
            "Epoch 5/10\n",
            "10/10 [==============================] - ETA: 0s - loss: 0.1598 - accuracy: 0.9500\n",
            "Epoch 00005: saving model to checkpoints/TRILL_FCN_layer19_5.tf\n",
            "10/10 [==============================] - 5s 503ms/step - loss: 0.1598 - accuracy: 0.9500 - val_loss: 0.1180 - val_accuracy: 0.9531 - lr: 1.0000e-04\n",
            "Epoch 6/10\n",
            "10/10 [==============================] - ETA: 0s - loss: 0.2010 - accuracy: 0.9312\n",
            "Epoch 00006: saving model to checkpoints/TRILL_FCN_layer19_6.tf\n",
            "10/10 [==============================] - 5s 516ms/step - loss: 0.2010 - accuracy: 0.9312 - val_loss: 0.3871 - val_accuracy: 0.8750 - lr: 1.0000e-04\n",
            "Epoch 7/10\n",
            "10/10 [==============================] - ETA: 0s - loss: 0.1061 - accuracy: 0.9688\n",
            "Epoch 00007: saving model to checkpoints/TRILL_FCN_layer19_7.tf\n",
            "10/10 [==============================] - 5s 522ms/step - loss: 0.1061 - accuracy: 0.9688 - val_loss: 0.0964 - val_accuracy: 0.9375 - lr: 1.0000e-04\n",
            "Epoch 8/10\n",
            "10/10 [==============================] - ETA: 0s - loss: 0.1197 - accuracy: 0.9563\n",
            "Epoch 00008: saving model to checkpoints/TRILL_FCN_layer19_8.tf\n",
            "10/10 [==============================] - 5s 520ms/step - loss: 0.1197 - accuracy: 0.9563 - val_loss: 0.2771 - val_accuracy: 0.8906 - lr: 1.0000e-04\n",
            "Epoch 9/10\n",
            "10/10 [==============================] - ETA: 0s - loss: 0.1615 - accuracy: 0.9688\n",
            "Epoch 00009: saving model to checkpoints/TRILL_FCN_layer19_9.tf\n",
            "10/10 [==============================] - 5s 465ms/step - loss: 0.1615 - accuracy: 0.9688 - val_loss: 0.1847 - val_accuracy: 0.9375 - lr: 1.0000e-04\n",
            "Epoch 00009: early stopping\n"
          ],
          "name": "stdout"
        }
      ]
    },
    {
      "cell_type": "code",
      "metadata": {
        "id": "KGeJHdR_SR9c",
        "colab": {
          "base_uri": "https://localhost:8080/",
          "height": 35
        },
        "outputId": "89d6df5e-532d-49e9-af14-74fe144db9ef"
      },
      "source": [
        "model3.load_weights('checkpoints/TRILL_FCN_layer19_4.tf')"
      ],
      "execution_count": null,
      "outputs": [
        {
          "output_type": "execute_result",
          "data": {
            "text/plain": [
              "<tensorflow.python.training.tracking.util.CheckpointLoadStatus at 0x7f70ca9a08d0>"
            ]
          },
          "metadata": {
            "tags": []
          },
          "execution_count": 41
        }
      ]
    },
    {
      "cell_type": "code",
      "metadata": {
        "id": "wU5Ku697SR9k",
        "colab": {
          "base_uri": "https://localhost:8080/",
          "height": 52
        },
        "outputId": "2d6d8fee-7164-4988-9641-46e824e0d906"
      },
      "source": [
        "#Confution Matrix\n",
        "sizes = 100\n",
        "y_true = []\n",
        "for example in train_ds2.take(sizes):\n",
        "    y_true.append(pd.DataFrame(example[1].numpy(),\n",
        "                              columns=onehotencoder.categories_[0]).idxmax(1))\n",
        "\n",
        "y_true = np.array(y_true).reshape(-1)\n",
        "Y_pred = model3.predict(val_ds2, steps = sizes)\n",
        "y_pred = pd.DataFrame(Y_pred, columns=onehotencoder.categories_[0]).idxmax(1)\n",
        "print(y_true.shape)\n",
        "print(y_pred.shape)"
      ],
      "execution_count": null,
      "outputs": [
        {
          "output_type": "stream",
          "text": [
            "(1600,)\n",
            "(1600,)\n"
          ],
          "name": "stdout"
        }
      ]
    },
    {
      "cell_type": "code",
      "metadata": {
        "id": "5_t9_sPKSR9n",
        "colab": {
          "base_uri": "https://localhost:8080/",
          "height": 35
        },
        "outputId": "845999ef-4d16-4963-d84f-32f9c7482ef3"
      },
      "source": [
        "#DataFlair - Calculate the accuracy of our model\n",
        "accuracy=accuracy_score(y_true=y_true, y_pred=y_pred)\n",
        "#DataFlair - Print the accuracy\n",
        "print(\"Accuracy: {:.2f}%\".format(accuracy*100))"
      ],
      "execution_count": null,
      "outputs": [
        {
          "output_type": "stream",
          "text": [
            "Accuracy: 48.81%\n"
          ],
          "name": "stdout"
        }
      ]
    },
    {
      "cell_type": "code",
      "metadata": {
        "id": "bQL11XWrSR9q",
        "colab": {
          "base_uri": "https://localhost:8080/",
          "height": 427
        },
        "outputId": "ce5c7873-c887-4dd1-cb43-f87391f10dc5"
      },
      "source": [
        "from sklearn.metrics import confusion_matrix\n",
        "import seaborn as sns\n",
        "import matplotlib.pyplot as plt\n",
        "%matplotlib inline\n",
        "\n",
        "labels = observed_emotions\n",
        "cm = confusion_matrix(y_true, y_pred, labels)\n",
        "cm_df = pd.DataFrame(cm, labels, labels)\n",
        "print(cm_df)\n",
        "plt.figure(figsize=(10,6))\n",
        "plt.ylabel(\"Actual\")\n",
        "plt.xlabel(\"Predicted\")\n",
        "sns.heatmap(cm_df, annot=True, cmap='Blues', yticklabels=len(observed_emotions))\n",
        "plt.show()"
      ],
      "execution_count": null,
      "outputs": [
        {
          "output_type": "stream",
          "text": [
            "         angry  neutral\n",
            "angry      419      417\n",
            "neutral    402      362\n"
          ],
          "name": "stdout"
        },
        {
          "output_type": "display_data",
          "data": {
            "image/png": "[encoded data removed]",
            "text/plain": [
              "<Figure size 720x432 with 2 Axes>"
            ]
          },
          "metadata": {
            "tags": [],
            "needs_background": "light"
          }
        }
      ]
    },
    {
      "cell_type": "code",
      "metadata": {
        "id": "rOAcyKcQSR9t"
      },
      "source": [
        "f = []\n",
        "fn = []\n",
        "prob = []\n",
        "for file in glob.glob(\"C:\\\\Users\\\\acer-pc\\\\Desktop\\\\Audio\\\\Surrey Audio-Visual Expressed Emotion (SAVEE) Database\\\\AudioData\\\\JK\\\\*.wav\"):\n",
        "    file_name=os.path.basename(file)\n",
        "    feature=np.expand_dims(extract_feature(file, mfcc=True, chroma=True, mel=True, contrast=True, tonnetz=True).reshape(1, -1), axis=2)\n",
        "    int_pred = onehotencoder.inverse_transform(model2.predict(feature))[0][0]\n",
        "    pr = np.max(model2.predict(feature))\n",
        "    f.append(int_pred)\n",
        "    fn.append(file_name)\n",
        "    prob.append(pr)\n",
        "    \n",
        "df = pd.concat([pd.Series(fn), pd.Series(f), pd.Series(prob)], axis=1)\n",
        "df.columns = ['filename', 'emotion', 'prob']"
      ],
      "execution_count": null,
      "outputs": []
    },
    {
      "cell_type": "code",
      "metadata": {
        "scrolled": true,
        "id": "Kpi-7RTDSR9y"
      },
      "source": [
        "df.to_csv('c.csv')"
      ],
      "execution_count": null,
      "outputs": []
    },
    {
      "cell_type": "markdown",
      "metadata": {
        "id": "vIM5CJ4VSR91"
      },
      "source": [
        "Load model"
      ]
    },
    {
      "cell_type": "code",
      "metadata": {
        "id": "vO7-JOHwSR92"
      },
      "source": [
        "# loading json and creating model\n",
        "from keras.models import model_from_json\n",
        "json_file = open('model.json', 'r')\n",
        "loaded_model_json = json_file.read()\n",
        "json_file.close()\n",
        "loaded_model = model_from_json(loaded_model_json)\n",
        "# load weights into new model\n",
        "loaded_model.load_weights(\"saved_models/Emotion_Voice_Detection_Model_CNN.h5\")\n",
        "print(\"Loaded model from disk\")\n",
        " \n",
        "# evaluate loaded model on test data\n",
        "loaded_model.compile(loss='categorical_crossentropy', optimizer=adam, metrics=['accuracy'])\n",
        "score = loaded_model.evaluate(x_testcnn, y_test1, verbose=0)\n",
        "print(\"%s: %.2f%%\" % (loaded_model.metrics_names[1], score[1]*100))"
      ],
      "execution_count": null,
      "outputs": []
    },
    {
      "cell_type": "code",
      "metadata": {
        "id": "Yc6O3OFySR96"
      },
      "source": [
        "file = (\"C:\\\\Users\\\\acer-pc\\\\Downloads\\\\LDC2007S09_neutral.wav\")\n",
        "file_name=os.path.basename(file)\n",
        "feature=np.expand_dims(extract_feature(file, mfcc=True, chroma=True, mel=True, contrast=True, tonnetz=True).reshape(1, -1), axis=2)\n",
        "int_pred = model2.predict(feature)\n",
        "int_preds = pd.DataFrame(int_pred)\n",
        "int_preds.columns = observed_emotions\n",
        "int_preds.idxmax(1)"
      ],
      "execution_count": null,
      "outputs": []
    },
    {
      "cell_type": "code",
      "metadata": {
        "id": "vEXu-T4kSR99"
      },
      "source": [],
      "execution_count": null,
      "outputs": []
    }
  ]
}