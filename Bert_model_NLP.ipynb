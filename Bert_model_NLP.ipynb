{
  "nbformat": 4,
  "nbformat_minor": 0,
  "metadata": {
    "colab": {
      "name": "Bert_model_NLP.ipynb",
      "provenance": [],
      "collapsed_sections": [],
      "authorship_tag": "ABX9TyNoKK5wvzgGVxkg7KbX4sTD",
      "include_colab_link": true
    },
    "kernelspec": {
      "name": "python3",
      "display_name": "Python 3"
    },
    "language_info": {
      "name": "python"
    },
    "accelerator": "GPU"
  },
  "cells": [
    {
      "cell_type": "markdown",
      "metadata": {
        "id": "view-in-github",
        "colab_type": "text"
      },
      "source": [
        "<a href=\"https://colab.research.google.com/github/bradbradlin/Machine-Learning-Projects/blob/main/Bert_model_NLP.ipynb\" target=\"_parent\"><img src=\"https://colab.research.google.com/assets/colab-badge.svg\" alt=\"Open In Colab\"/></a>"
      ]
    },
    {
      "cell_type": "markdown",
      "metadata": {
        "id": "VwpiX6xmqZG6"
      },
      "source": [
        "# Suspicious email detection by unsupervised learning"
      ]
    },
    {
      "cell_type": "markdown",
      "metadata": {
        "id": "hg4R1nrWqZG-"
      },
      "source": [
        "Background:\n",
        "\n",
        "In the financial industry, email monitoring is one of measures to prevent from non compliance activities, for example rogue trading. Traditional monitoring of emails is screening by keywords which is manually maintained. Disadvantages of traditional approach include expensive human involvement and ineffectiveness. To oveecome those disadvantages, machine learning is a better alternative.  \n",
        "\n",
        "Nowadays, anomaly email detection, such as spam email, mainly adopts supervised algorithms. The pain point of supervised learning is labeled dataset which needs expensive human annotation.  To cope with this issue, this workbook will demonstrate an unsupervised learning technique to predict the probability of suspicious emails. \n"
      ]
    },
    {
      "cell_type": "markdown",
      "metadata": {
        "id": "AbpYav7MqZHA"
      },
      "source": [
        "### Supervised vs Unsupervised Learning:\n",
        "Unlike supervised learning, unsupervised learning don't need labeled dataset to train the classifier."
      ]
    },
    {
      "cell_type": "markdown",
      "metadata": {
        "id": "iYJDf99qsrn3"
      },
      "source": [
        "![alt text](https://drive.google.com/uc?id=1Fu4MRSRGNZZaBw_9p-dcFJslhUHzUWUQ)"
      ]
    },
    {
      "cell_type": "code",
      "metadata": {
        "colab": {
          "base_uri": "https://localhost:8080/"
        },
        "id": "K59rnjziVW1l",
        "outputId": "f048829d-13cc-4c39-f527-564480b7e1e3"
      },
      "source": [
        "!pip install transformers\n",
        "# A dependency of the preprocessing for BERT inputs\n",
        "!pip install -q tensorflow-text\n",
        "!pip install -q tf-models-official"
      ],
      "execution_count": 1,
      "outputs": [
        {
          "output_type": "stream",
          "text": [
            "Requirement already satisfied: transformers in /usr/local/lib/python3.7/dist-packages (4.4.2)\n",
            "Requirement already satisfied: packaging in /usr/local/lib/python3.7/dist-packages (from transformers) (20.9)\n",
            "Requirement already satisfied: filelock in /usr/local/lib/python3.7/dist-packages (from transformers) (3.0.12)\n",
            "Requirement already satisfied: importlib-metadata; python_version < \"3.8\" in /usr/local/lib/python3.7/dist-packages (from transformers) (3.7.2)\n",
            "Requirement already satisfied: tokenizers<0.11,>=0.10.1 in /usr/local/lib/python3.7/dist-packages (from transformers) (0.10.1)\n",
            "Requirement already satisfied: requests in /usr/local/lib/python3.7/dist-packages (from transformers) (2.23.0)\n",
            "Requirement already satisfied: regex!=2019.12.17 in /usr/local/lib/python3.7/dist-packages (from transformers) (2019.12.20)\n",
            "Requirement already satisfied: sacremoses in /usr/local/lib/python3.7/dist-packages (from transformers) (0.0.43)\n",
            "Requirement already satisfied: tqdm>=4.27 in /usr/local/lib/python3.7/dist-packages (from transformers) (4.41.1)\n",
            "Requirement already satisfied: numpy>=1.17 in /usr/local/lib/python3.7/dist-packages (from transformers) (1.19.5)\n",
            "Requirement already satisfied: pyparsing>=2.0.2 in /usr/local/lib/python3.7/dist-packages (from packaging->transformers) (2.4.7)\n",
            "Requirement already satisfied: zipp>=0.5 in /usr/local/lib/python3.7/dist-packages (from importlib-metadata; python_version < \"3.8\"->transformers) (3.4.1)\n",
            "Requirement already satisfied: typing-extensions>=3.6.4; python_version < \"3.8\" in /usr/local/lib/python3.7/dist-packages (from importlib-metadata; python_version < \"3.8\"->transformers) (3.7.4.3)\n",
            "Requirement already satisfied: urllib3!=1.25.0,!=1.25.1,<1.26,>=1.21.1 in /usr/local/lib/python3.7/dist-packages (from requests->transformers) (1.24.3)\n",
            "Requirement already satisfied: certifi>=2017.4.17 in /usr/local/lib/python3.7/dist-packages (from requests->transformers) (2020.12.5)\n",
            "Requirement already satisfied: chardet<4,>=3.0.2 in /usr/local/lib/python3.7/dist-packages (from requests->transformers) (3.0.4)\n",
            "Requirement already satisfied: idna<3,>=2.5 in /usr/local/lib/python3.7/dist-packages (from requests->transformers) (2.10)\n",
            "Requirement already satisfied: joblib in /usr/local/lib/python3.7/dist-packages (from sacremoses->transformers) (1.0.1)\n",
            "Requirement already satisfied: click in /usr/local/lib/python3.7/dist-packages (from sacremoses->transformers) (7.1.2)\n",
            "Requirement already satisfied: six in /usr/local/lib/python3.7/dist-packages (from sacremoses->transformers) (1.15.0)\n"
          ],
          "name": "stdout"
        }
      ]
    },
    {
      "cell_type": "code",
      "metadata": {
        "colab": {
          "base_uri": "https://localhost:8080/"
        },
        "id": "TcCgzebzVoxM",
        "outputId": "29e8421b-78a1-457c-cb24-da94d5e8017d"
      },
      "source": [
        "#Import libraries\n",
        "import pandas as pd \n",
        "import numpy as np\n",
        "import nltk\n",
        "import re\n",
        "import email\n",
        "import matplotlib.pyplot as plt \n",
        "import seaborn as sns \n",
        "from nltk.tokenize import sent_tokenize,word_tokenize\n",
        "from nltk.stem.snowball import SnowballStemmer\n",
        "from nltk.stem import WordNetLemmatizer \n",
        "from sklearn.feature_extraction import stop_words\n",
        "from sklearn.feature_extraction.text import TfidfVectorizer\n",
        "from sklearn.model_selection import train_test_split\n",
        "from sklearn.decomposition import PCA \n",
        "from sklearn.preprocessing import StandardScaler\n",
        "from sklearn.feature_extraction.text import CountVectorizer \n",
        "from sklearn.decomposition import LatentDirichletAllocation\n",
        "from scipy.spatial.distance import cosine\n",
        "\n",
        "import tensorflow as tf\n",
        "device_name = tf.test.gpu_device_name()\n",
        "if device_name != '/device:GPU:0':\n",
        "  raise SystemError('GPU device not found')\n",
        "print('Found GPU at: {}'.format(device_name))\n",
        "from keras.callbacks import EarlyStopping\n",
        "\n",
        "from transformers import BertTokenizer, TFBertForSequenceClassification\n",
        "from transformers import InputExample, InputFeatures\n",
        "import os\n",
        "import shutil\n",
        "\n",
        "\n",
        "import tensorflow_hub as hub\n",
        "import tensorflow_text as text\n",
        "from official.nlp import optimization  # to create AdamW optmizer\n",
        "\n",
        "\n",
        "tf.get_logger().setLevel('ERROR')\n",
        "\n",
        "%matplotlib inline\n",
        "%tensorflow_version 2.x\n",
        "\n",
        "print(tf.__version__)\n",
        "nltk.download('punkt')"
      ],
      "execution_count": 2,
      "outputs": [
        {
          "output_type": "stream",
          "text": [
            "/usr/local/lib/python3.7/dist-packages/sklearn/utils/deprecation.py:144: FutureWarning: The sklearn.feature_extraction.stop_words module is  deprecated in version 0.22 and will be removed in version 0.24. The corresponding classes / functions should instead be imported from sklearn.feature_extraction.text. Anything that cannot be imported from sklearn.feature_extraction.text is now part of the private API.\n",
            "  warnings.warn(message, FutureWarning)\n"
          ],
          "name": "stderr"
        },
        {
          "output_type": "stream",
          "text": [
            "Found GPU at: /device:GPU:0\n",
            "2.4.1\n",
            "[nltk_data] Downloading package punkt to /root/nltk_data...\n",
            "[nltk_data]   Package punkt is already up-to-date!\n"
          ],
          "name": "stdout"
        },
        {
          "output_type": "execute_result",
          "data": {
            "text/plain": [
              "True"
            ]
          },
          "metadata": {
            "tags": []
          },
          "execution_count": 2
        }
      ]
    },
    {
      "cell_type": "code",
      "metadata": {
        "id": "BO_7Uxd0r6qf",
        "colab": {
          "base_uri": "https://localhost:8080/"
        },
        "outputId": "e611c3e4-15a2-465c-a984-285ae204407e"
      },
      "source": [
        "from google.colab import drive\n",
        "drive.mount('/content/gdrive')\n",
        "!ls"
      ],
      "execution_count": 3,
      "outputs": [
        {
          "output_type": "stream",
          "text": [
            "Drive already mounted at /content/gdrive; to attempt to forcibly remount, call drive.mount(\"/content/gdrive\", force_remount=True).\n",
            "gdrive\tsample_data\n"
          ],
          "name": "stdout"
        }
      ]
    },
    {
      "cell_type": "code",
      "metadata": {
        "colab": {
          "base_uri": "https://localhost:8080/"
        },
        "id": "4FgzWbSltQcL",
        "outputId": "1089f9dc-042e-49ed-d51d-78498480fc33"
      },
      "source": [
        "%cd /content/gdrive/My Drive/Colab Notebooks/NLP/emails"
      ],
      "execution_count": 4,
      "outputs": [
        {
          "output_type": "stream",
          "text": [
            "/content/gdrive/My Drive/Colab Notebooks/NLP/emails\n"
          ],
          "name": "stdout"
        }
      ]
    },
    {
      "cell_type": "code",
      "metadata": {
        "colab": {
          "base_uri": "https://localhost:8080/"
        },
        "id": "KgOO3x2rtNhP",
        "outputId": "3b31fc3f-c4f0-4019-90c0-2f21b6559571"
      },
      "source": [
        "emails = pd.read_csv('./emails/emails.csv',quoting=2,header=0)\n",
        "emails = emails[emails['file'].str.contains('sent').tolist()]\n",
        "filelist = emails['file'].tolist()\n",
        "messages = emails['message'].tolist()\n",
        "print(messages[0])"
      ],
      "execution_count": 5,
      "outputs": [
        {
          "output_type": "stream",
          "text": [
            "Message-ID: <18782981.1075855378110.JavaMail.evans@thyme>\n",
            "Date: Mon, 14 May 2001 16:39:00 -0700 (PDT)\n",
            "From: phillip.allen@enron.com\n",
            "To: tim.belden@enron.com\n",
            "Subject: \n",
            "Mime-Version: 1.0\n",
            "Content-Type: text/plain; charset=us-ascii\n",
            "Content-Transfer-Encoding: 7bit\n",
            "X-From: Phillip K Allen\n",
            "X-To: Tim Belden <Tim Belden/Enron@EnronXGate>\n",
            "X-cc: \n",
            "X-bcc: \n",
            "X-Folder: \\Phillip_Allen_Jan2002_1\\Allen, Phillip K.\\'Sent Mail\n",
            "X-Origin: Allen-P\n",
            "X-FileName: pallen (Non-Privileged).pst\n",
            "\n",
            "Here is our forecast\n",
            "\n",
            " \n"
          ],
          "name": "stdout"
        }
      ]
    },
    {
      "cell_type": "code",
      "metadata": {
        "id": "MsLQBUPEt4fG"
      },
      "source": [
        "def format_message(text):\n",
        "    sTemp=text\n",
        "    location=sTemp.find(\"---------------------- Forwarded\")\n",
        "    if location!=-1:\n",
        "        sTemp=sTemp[:location]\n",
        "    location=sTemp.find(\"----- Forwarded\")\n",
        "    if location!=-1:\n",
        "        sTemp=sTemp[:location]\n",
        "    location=sTemp.find(\"          ++++++CONFIDENTIALITY NOTICE+++++\")\n",
        "    if location!=-1:\n",
        "        sTemp=sTemp[:location]\n",
        "    location=sTemp.find(\"-----Original Message-----\")\n",
        "    if location!=-1:\n",
        "        sTemp=sTemp[:location]\n",
        "    location=sTemp.find(\" -----Original Appointment-----\")\n",
        "    if location!=-1:\n",
        "        sTemp=sTemp[:location]\n",
        "    location=sTemp.find(\"\\n\\t\")\n",
        "    if location!=-1:\n",
        "        sTemp=sTemp[:location]\n",
        "    location=sTemp.find(\"@\")\n",
        "    if location!=-1:\n",
        "        sTemp=sTemp[:location]\n",
        "        sTemp=sTemp[:sTemp.rfind('\\n')]\n",
        "    return sTemp"
      ],
      "execution_count": 6,
      "outputs": []
    },
    {
      "cell_type": "code",
      "metadata": {
        "id": "0QVTiUZ1t9ul"
      },
      "source": [
        "#Only 10 email adrresses are investigated\n",
        "filter_list = ['kay.mann@enron.com']\n",
        "min_words=10\n",
        "from_list = []\n",
        "subject_list = []\n",
        "message_list = []\n",
        "formatted_list = []\n",
        "\n",
        "#Import content into Dataframe\n",
        "for message in messages:\n",
        "    msg = email.message_from_string(message)\n",
        "    for part in msg.walk():\n",
        "        if part.get_content_type() == 'text/plain':\n",
        "            from_value = part.get(\"From\")\n",
        "            if from_value in filter_list:\n",
        "                sTemp = format_message(part.get_payload())\n",
        "                sTemp=sTemp.strip()\n",
        "                if len(sTemp) > 0:\n",
        "                    totalWords=0\n",
        "                    sentences=sent_tokenize(sTemp.lower())\n",
        "                    for sentence in sentences:\n",
        "                        words=word_tokenize(sentence)\n",
        "                        totalWords+=len(words)\n",
        "                    if totalWords>=min_words:\n",
        "                        from_list.append(part.get(\"From\"))\n",
        "                        subject_list.append(part.get(\"Subject\"))\n",
        "                        message_list.append(part.get_payload())\n",
        "                        formatted_list.append(sTemp)\n",
        "                    \n",
        "email_df = pd.DataFrame({'From': from_list, 'Subject': subject_list, 'Message': message_list, 'FormattedMessage': formatted_list,})"
      ],
      "execution_count": 7,
      "outputs": []
    },
    {
      "cell_type": "code",
      "metadata": {
        "colab": {
          "base_uri": "https://localhost:8080/"
        },
        "id": "MJybWQApt_bN",
        "outputId": "064f14be-2fca-4ef1-d02d-97ca0c1c9e13"
      },
      "source": [
        "print('Size of total dataset: ', email_df.shape[0])\n",
        "email_df['Body'] = email_df['FormattedMessage']\n",
        "email_df_copy = email_df['Body'].copy() #Backup the orginal dataset"
      ],
      "execution_count": 8,
      "outputs": [
        {
          "output_type": "stream",
          "text": [
            "Size of total dataset:  6355\n"
          ],
          "name": "stdout"
        }
      ]
    },
    {
      "cell_type": "code",
      "metadata": {
        "id": "bECKepr3uDBu"
      },
      "source": [
        "#Loading anomaly samples\n",
        "anomaly_df = pd.read_csv('./emails/anomaly.csv', encoding= 'iso-8859-1' , header=0, index_col=False)\n",
        "anomaly_df_copy = anomaly_df['Body'].copy() #Backup the orginal dataset"
      ],
      "execution_count": 9,
      "outputs": []
    },
    {
      "cell_type": "code",
      "metadata": {
        "id": "25r4zQXH4PsP"
      },
      "source": [
        "AUTOTUNE = tf.data.AUTOTUNE\n",
        "batch_size = 32\n",
        "seed = 42\n",
        "split = int(len(email_df)/batch_size*0.9)\n",
        "\n",
        "dataset = tf.data.Dataset.from_tensor_slices(email_df['FormattedMessage'])\n",
        "dataset = dataset.batch(batch_size).shuffle(seed)\n",
        "\n",
        "raw_train_ds = dataset.take(split) \n",
        "raw_val_ds = dataset.skip(split)\n",
        "\n",
        "train_ds = raw_train_ds.cache().prefetch(buffer_size=AUTOTUNE)\n",
        "val_ds = raw_val_ds.cache().prefetch(buffer_size=AUTOTUNE)"
      ],
      "execution_count": 10,
      "outputs": []
    },
    {
      "cell_type": "code",
      "metadata": {
        "cellView": "form",
        "id": "y8_ctG55-uTX",
        "colab": {
          "base_uri": "https://localhost:8080/"
        },
        "outputId": "74910d44-b4d6-4f01-b1e1-3eff17d93bfa"
      },
      "source": [
        "#@title Choose a BERT model to fine-tune\n",
        "\n",
        "bert_model_name = 'small_bert/bert_en_uncased_L-2_H-512_A-8'  #@param [\"bert_en_uncased_L-12_H-768_A-12\", \"bert_en_cased_L-12_H-768_A-12\", \"bert_multi_cased_L-12_H-768_A-12\", \"small_bert/bert_en_uncased_L-2_H-128_A-2\", \"small_bert/bert_en_uncased_L-2_H-256_A-4\", \"small_bert/bert_en_uncased_L-2_H-512_A-8\", \"small_bert/bert_en_uncased_L-2_H-768_A-12\", \"small_bert/bert_en_uncased_L-4_H-128_A-2\", \"small_bert/bert_en_uncased_L-4_H-256_A-4\", \"small_bert/bert_en_uncased_L-4_H-512_A-8\", \"small_bert/bert_en_uncased_L-4_H-768_A-12\", \"small_bert/bert_en_uncased_L-6_H-128_A-2\", \"small_bert/bert_en_uncased_L-6_H-256_A-4\", \"small_bert/bert_en_uncased_L-6_H-512_A-8\", \"small_bert/bert_en_uncased_L-6_H-768_A-12\", \"small_bert/bert_en_uncased_L-8_H-128_A-2\", \"small_bert/bert_en_uncased_L-8_H-256_A-4\", \"small_bert/bert_en_uncased_L-8_H-512_A-8\", \"small_bert/bert_en_uncased_L-8_H-768_A-12\", \"small_bert/bert_en_uncased_L-10_H-128_A-2\", \"small_bert/bert_en_uncased_L-10_H-256_A-4\", \"small_bert/bert_en_uncased_L-10_H-512_A-8\", \"small_bert/bert_en_uncased_L-10_H-768_A-12\", \"small_bert/bert_en_uncased_L-12_H-128_A-2\", \"small_bert/bert_en_uncased_L-12_H-256_A-4\", \"small_bert/bert_en_uncased_L-12_H-512_A-8\", \"small_bert/bert_en_uncased_L-12_H-768_A-12\", \"albert_en_base\", \"electra_small\", \"electra_base\", \"experts_pubmed\", \"experts_wiki_books\", \"talking-heads_base\"]\n",
        "\n",
        "map_name_to_handle = {\n",
        "    'bert_en_uncased_L-12_H-768_A-12':\n",
        "        'https://tfhub.dev/tensorflow/bert_en_uncased_L-12_H-768_A-12/3',\n",
        "    'bert_en_cased_L-12_H-768_A-12':\n",
        "        'https://tfhub.dev/tensorflow/bert_en_cased_L-12_H-768_A-12/3',\n",
        "    'bert_multi_cased_L-12_H-768_A-12':\n",
        "        'https://tfhub.dev/tensorflow/bert_multi_cased_L-12_H-768_A-12/3',\n",
        "    'small_bert/bert_en_uncased_L-2_H-128_A-2':\n",
        "        'https://tfhub.dev/tensorflow/small_bert/bert_en_uncased_L-2_H-128_A-2/1',\n",
        "    'small_bert/bert_en_uncased_L-2_H-256_A-4':\n",
        "        'https://tfhub.dev/tensorflow/small_bert/bert_en_uncased_L-2_H-256_A-4/1',\n",
        "    'small_bert/bert_en_uncased_L-2_H-512_A-8':\n",
        "        'https://tfhub.dev/tensorflow/small_bert/bert_en_uncased_L-2_H-512_A-8/1',\n",
        "    'small_bert/bert_en_uncased_L-2_H-768_A-12':\n",
        "        'https://tfhub.dev/tensorflow/small_bert/bert_en_uncased_L-2_H-768_A-12/1',\n",
        "    'small_bert/bert_en_uncased_L-4_H-128_A-2':\n",
        "        'https://tfhub.dev/tensorflow/small_bert/bert_en_uncased_L-4_H-128_A-2/1',\n",
        "    'small_bert/bert_en_uncased_L-4_H-256_A-4':\n",
        "        'https://tfhub.dev/tensorflow/small_bert/bert_en_uncased_L-4_H-256_A-4/1',\n",
        "    'small_bert/bert_en_uncased_L-4_H-512_A-8':\n",
        "        'https://tfhub.dev/tensorflow/small_bert/bert_en_uncased_L-4_H-512_A-8/1',\n",
        "    'small_bert/bert_en_uncased_L-4_H-768_A-12':\n",
        "        'https://tfhub.dev/tensorflow/small_bert/bert_en_uncased_L-4_H-768_A-12/1',\n",
        "    'small_bert/bert_en_uncased_L-6_H-128_A-2':\n",
        "        'https://tfhub.dev/tensorflow/small_bert/bert_en_uncased_L-6_H-128_A-2/1',\n",
        "    'small_bert/bert_en_uncased_L-6_H-256_A-4':\n",
        "        'https://tfhub.dev/tensorflow/small_bert/bert_en_uncased_L-6_H-256_A-4/1',\n",
        "    'small_bert/bert_en_uncased_L-6_H-512_A-8':\n",
        "        'https://tfhub.dev/tensorflow/small_bert/bert_en_uncased_L-6_H-512_A-8/1',\n",
        "    'small_bert/bert_en_uncased_L-6_H-768_A-12':\n",
        "        'https://tfhub.dev/tensorflow/small_bert/bert_en_uncased_L-6_H-768_A-12/1',\n",
        "    'small_bert/bert_en_uncased_L-8_H-128_A-2':\n",
        "        'https://tfhub.dev/tensorflow/small_bert/bert_en_uncased_L-8_H-128_A-2/1',\n",
        "    'small_bert/bert_en_uncased_L-8_H-256_A-4':\n",
        "        'https://tfhub.dev/tensorflow/small_bert/bert_en_uncased_L-8_H-256_A-4/1',\n",
        "    'small_bert/bert_en_uncased_L-8_H-512_A-8':\n",
        "        'https://tfhub.dev/tensorflow/small_bert/bert_en_uncased_L-8_H-512_A-8/1',\n",
        "    'small_bert/bert_en_uncased_L-8_H-768_A-12':\n",
        "        'https://tfhub.dev/tensorflow/small_bert/bert_en_uncased_L-8_H-768_A-12/1',\n",
        "    'small_bert/bert_en_uncased_L-10_H-128_A-2':\n",
        "        'https://tfhub.dev/tensorflow/small_bert/bert_en_uncased_L-10_H-128_A-2/1',\n",
        "    'small_bert/bert_en_uncased_L-10_H-256_A-4':\n",
        "        'https://tfhub.dev/tensorflow/small_bert/bert_en_uncased_L-10_H-256_A-4/1',\n",
        "    'small_bert/bert_en_uncased_L-10_H-512_A-8':\n",
        "        'https://tfhub.dev/tensorflow/small_bert/bert_en_uncased_L-10_H-512_A-8/1',\n",
        "    'small_bert/bert_en_uncased_L-10_H-768_A-12':\n",
        "        'https://tfhub.dev/tensorflow/small_bert/bert_en_uncased_L-10_H-768_A-12/1',\n",
        "    'small_bert/bert_en_uncased_L-12_H-128_A-2':\n",
        "        'https://tfhub.dev/tensorflow/small_bert/bert_en_uncased_L-12_H-128_A-2/1',\n",
        "    'small_bert/bert_en_uncased_L-12_H-256_A-4':\n",
        "        'https://tfhub.dev/tensorflow/small_bert/bert_en_uncased_L-12_H-256_A-4/1',\n",
        "    'small_bert/bert_en_uncased_L-12_H-512_A-8':\n",
        "        'https://tfhub.dev/tensorflow/small_bert/bert_en_uncased_L-12_H-512_A-8/1',\n",
        "    'small_bert/bert_en_uncased_L-12_H-768_A-12':\n",
        "        'https://tfhub.dev/tensorflow/small_bert/bert_en_uncased_L-12_H-768_A-12/1',\n",
        "    'albert_en_base':\n",
        "        'https://tfhub.dev/tensorflow/albert_en_base/2',\n",
        "    'electra_small':\n",
        "        'https://tfhub.dev/google/electra_small/2',\n",
        "    'electra_base':\n",
        "        'https://tfhub.dev/google/electra_base/2',\n",
        "    'experts_pubmed':\n",
        "        'https://tfhub.dev/google/experts/bert/pubmed/2',\n",
        "    'experts_wiki_books':\n",
        "        'https://tfhub.dev/google/experts/bert/wiki_books/2',\n",
        "    'talking-heads_base':\n",
        "        'https://tfhub.dev/tensorflow/talkheads_ggelu_bert_en_base/1',\n",
        "}\n",
        "\n",
        "map_model_to_preprocess = {\n",
        "    'bert_en_uncased_L-12_H-768_A-12':\n",
        "        'https://tfhub.dev/tensorflow/bert_en_uncased_preprocess/3',\n",
        "    'bert_en_cased_L-12_H-768_A-12':\n",
        "        'https://tfhub.dev/tensorflow/bert_en_cased_preprocess/3',\n",
        "    'small_bert/bert_en_uncased_L-2_H-128_A-2':\n",
        "        'https://tfhub.dev/tensorflow/bert_en_uncased_preprocess/3',\n",
        "    'small_bert/bert_en_uncased_L-2_H-256_A-4':\n",
        "        'https://tfhub.dev/tensorflow/bert_en_uncased_preprocess/3',\n",
        "    'small_bert/bert_en_uncased_L-2_H-512_A-8':\n",
        "        'https://tfhub.dev/tensorflow/bert_en_uncased_preprocess/3',\n",
        "    'small_bert/bert_en_uncased_L-2_H-768_A-12':\n",
        "        'https://tfhub.dev/tensorflow/bert_en_uncased_preprocess/3',\n",
        "    'small_bert/bert_en_uncased_L-4_H-128_A-2':\n",
        "        'https://tfhub.dev/tensorflow/bert_en_uncased_preprocess/3',\n",
        "    'small_bert/bert_en_uncased_L-4_H-256_A-4':\n",
        "        'https://tfhub.dev/tensorflow/bert_en_uncased_preprocess/3',\n",
        "    'small_bert/bert_en_uncased_L-4_H-512_A-8':\n",
        "        'https://tfhub.dev/tensorflow/bert_en_uncased_preprocess/3',\n",
        "    'small_bert/bert_en_uncased_L-4_H-768_A-12':\n",
        "        'https://tfhub.dev/tensorflow/bert_en_uncased_preprocess/3',\n",
        "    'small_bert/bert_en_uncased_L-6_H-128_A-2':\n",
        "        'https://tfhub.dev/tensorflow/bert_en_uncased_preprocess/3',\n",
        "    'small_bert/bert_en_uncased_L-6_H-256_A-4':\n",
        "        'https://tfhub.dev/tensorflow/bert_en_uncased_preprocess/3',\n",
        "    'small_bert/bert_en_uncased_L-6_H-512_A-8':\n",
        "        'https://tfhub.dev/tensorflow/bert_en_uncased_preprocess/3',\n",
        "    'small_bert/bert_en_uncased_L-6_H-768_A-12':\n",
        "        'https://tfhub.dev/tensorflow/bert_en_uncased_preprocess/3',\n",
        "    'small_bert/bert_en_uncased_L-8_H-128_A-2':\n",
        "        'https://tfhub.dev/tensorflow/bert_en_uncased_preprocess/3',\n",
        "    'small_bert/bert_en_uncased_L-8_H-256_A-4':\n",
        "        'https://tfhub.dev/tensorflow/bert_en_uncased_preprocess/3',\n",
        "    'small_bert/bert_en_uncased_L-8_H-512_A-8':\n",
        "        'https://tfhub.dev/tensorflow/bert_en_uncased_preprocess/3',\n",
        "    'small_bert/bert_en_uncased_L-8_H-768_A-12':\n",
        "        'https://tfhub.dev/tensorflow/bert_en_uncased_preprocess/3',\n",
        "    'small_bert/bert_en_uncased_L-10_H-128_A-2':\n",
        "        'https://tfhub.dev/tensorflow/bert_en_uncased_preprocess/3',\n",
        "    'small_bert/bert_en_uncased_L-10_H-256_A-4':\n",
        "        'https://tfhub.dev/tensorflow/bert_en_uncased_preprocess/3',\n",
        "    'small_bert/bert_en_uncased_L-10_H-512_A-8':\n",
        "        'https://tfhub.dev/tensorflow/bert_en_uncased_preprocess/3',\n",
        "    'small_bert/bert_en_uncased_L-10_H-768_A-12':\n",
        "        'https://tfhub.dev/tensorflow/bert_en_uncased_preprocess/3',\n",
        "    'small_bert/bert_en_uncased_L-12_H-128_A-2':\n",
        "        'https://tfhub.dev/tensorflow/bert_en_uncased_preprocess/3',\n",
        "    'small_bert/bert_en_uncased_L-12_H-256_A-4':\n",
        "        'https://tfhub.dev/tensorflow/bert_en_uncased_preprocess/3',\n",
        "    'small_bert/bert_en_uncased_L-12_H-512_A-8':\n",
        "        'https://tfhub.dev/tensorflow/bert_en_uncased_preprocess/3',\n",
        "    'small_bert/bert_en_uncased_L-12_H-768_A-12':\n",
        "        'https://tfhub.dev/tensorflow/bert_en_uncased_preprocess/3',\n",
        "    'bert_multi_cased_L-12_H-768_A-12':\n",
        "        'https://tfhub.dev/tensorflow/bert_multi_cased_preprocess/3',\n",
        "    'albert_en_base':\n",
        "        'https://tfhub.dev/tensorflow/albert_en_preprocess/3',\n",
        "    'electra_small':\n",
        "        'https://tfhub.dev/tensorflow/bert_en_uncased_preprocess/3',\n",
        "    'electra_base':\n",
        "        'https://tfhub.dev/tensorflow/bert_en_uncased_preprocess/3',\n",
        "    'experts_pubmed':\n",
        "        'https://tfhub.dev/tensorflow/bert_en_uncased_preprocess/3',\n",
        "    'experts_wiki_books':\n",
        "        'https://tfhub.dev/tensorflow/bert_en_uncased_preprocess/3',\n",
        "    'talking-heads_base':\n",
        "        'https://tfhub.dev/tensorflow/bert_en_uncased_preprocess/3',\n",
        "}\n",
        "\n",
        "tfhub_handle_encoder = map_name_to_handle[bert_model_name]\n",
        "tfhub_handle_preprocess = map_model_to_preprocess[bert_model_name]\n",
        "\n",
        "print(f'BERT model selected           : {tfhub_handle_encoder}')\n",
        "print(f'Preprocess model auto-selected: {tfhub_handle_preprocess}')"
      ],
      "execution_count": 11,
      "outputs": [
        {
          "output_type": "stream",
          "text": [
            "BERT model selected           : https://tfhub.dev/tensorflow/small_bert/bert_en_uncased_L-2_H-512_A-8/1\n",
            "Preprocess model auto-selected: https://tfhub.dev/tensorflow/bert_en_uncased_preprocess/3\n"
          ],
          "name": "stdout"
        }
      ]
    },
    {
      "cell_type": "code",
      "metadata": {
        "colab": {
          "base_uri": "https://localhost:8080/"
        },
        "id": "VyzCvVhg5y0M",
        "outputId": "217e8dd5-9500-40c0-889e-377d0c065947"
      },
      "source": [
        "preprocess = hub.KerasLayer(tfhub_handle_preprocess)\n",
        "bert_encoder = hub.KerasLayer(tfhub_handle_encoder)\n",
        "\n",
        "def bert_embedding():\n",
        "  text_input = tf.keras.layers.Input(shape=(), dtype=tf.string, name='text')\n",
        "  encoder_inputs = preprocess(text_input)\n",
        "  outputs = bert_encoder(encoder_inputs)\n",
        "  return tf.keras.Model(text_input, outputs)\n",
        "\n",
        "def build_model(num_of_encoder, num_of_hidden):\n",
        "\n",
        "  # input placeholder\n",
        "  input_encoded = tf.keras.layers.Input(shape=(num_of_encoder,))\n",
        "\n",
        "  # this is the encoded representation of the input\n",
        "  encoded = tf.keras.layers.Dense(num_of_hidden*1.5, activation='relu', \n",
        "                                  kernel_initializer=tf.keras.initializers.he_normal(seed=None))(input_encoded)\n",
        "\n",
        "  # this is the encoded representation of the input\n",
        "  encoded1 = tf.keras.layers.Dense(num_of_hidden, activation='relu')(encoded)\n",
        "\n",
        "  # this is the encoded representation of the input\n",
        "  encoded2 = tf.keras.layers.Dense(num_of_hidden*1.5, activation='relu')(encoded1)\n",
        "\n",
        "  # this is the loss reconstruction of the input\n",
        "  decoded = tf.keras.layers.Dense(num_of_encoder, activation='tanh')(encoded2)\n",
        "\n",
        "  return tf.keras.Model(input_encoded, decoded)"
      ],
      "execution_count": 12,
      "outputs": [
        {
          "output_type": "stream",
          "text": [
            "INFO:absl:Using /tmp/tfhub_modules to cache modules.\n",
            "INFO:absl:Downloading TF-Hub Module 'https://tfhub.dev/tensorflow/small_bert/bert_en_uncased_L-2_H-512_A-8/1'.\n",
            "INFO:absl:Downloaded https://tfhub.dev/tensorflow/small_bert/bert_en_uncased_L-2_H-512_A-8/1, Total size: 89.58MB\n",
            "INFO:absl:Downloaded TF-Hub Module 'https://tfhub.dev/tensorflow/small_bert/bert_en_uncased_L-2_H-512_A-8/1'.\n"
          ],
          "name": "stderr"
        }
      ]
    },
    {
      "cell_type": "code",
      "metadata": {
        "id": "4DF1Zu-DU1_m"
      },
      "source": [
        "model1 = bert_embedding()\n",
        "train_emb = model1.predict(train_ds)['pooled_output']\n",
        "val_emb = model1.predict(val_ds)['pooled_output']\n",
        "test_emb = model1.predict(anomaly_df['Body'])['pooled_output']"
      ],
      "execution_count": 13,
      "outputs": []
    },
    {
      "cell_type": "code",
      "metadata": {
        "id": "GsR3OyUpIi55"
      },
      "source": [
        "no_of_encoder = len(train_emb[1])\n",
        "no_of_hidden = int(no_of_encoder/2) \n",
        "bert_autoencoder = build_model(no_of_encoder, no_of_hidden)"
      ],
      "execution_count": 17,
      "outputs": []
    },
    {
      "cell_type": "code",
      "metadata": {
        "colab": {
          "base_uri": "https://localhost:8080/"
        },
        "id": "-Bj-Caab-UG6",
        "outputId": "25876d1a-cf6c-493a-8116-0bbe82235fcc"
      },
      "source": [
        "bert_autoencoder.summary()"
      ],
      "execution_count": 18,
      "outputs": [
        {
          "output_type": "stream",
          "text": [
            "Model: \"model_2\"\n",
            "_________________________________________________________________\n",
            "Layer (type)                 Output Shape              Param #   \n",
            "=================================================================\n",
            "input_2 (InputLayer)         [(None, 512)]             0         \n",
            "_________________________________________________________________\n",
            "dense_4 (Dense)              (None, 384)               196992    \n",
            "_________________________________________________________________\n",
            "dense_5 (Dense)              (None, 256)               98560     \n",
            "_________________________________________________________________\n",
            "dense_6 (Dense)              (None, 384)               98688     \n",
            "_________________________________________________________________\n",
            "dense_7 (Dense)              (None, 512)               197120    \n",
            "=================================================================\n",
            "Total params: 591,360\n",
            "Trainable params: 591,360\n",
            "Non-trainable params: 0\n",
            "_________________________________________________________________\n"
          ],
          "name": "stdout"
        }
      ]
    },
    {
      "cell_type": "code",
      "metadata": {
        "colab": {
          "base_uri": "https://localhost:8080/"
        },
        "id": "GcnlbpdP8wU2",
        "outputId": "756b68ca-7c2f-4ba7-a34f-0b22a7c49a32"
      },
      "source": [
        "opt = tf.keras.optimizers.RMSprop(learning_rate=0.01, rho=0.9)\n",
        "bert_autoencoder.compile(optimizer=opt, loss='mean_squared_error')\n",
        "\n",
        "bert_autoencoder.fit(train_emb, train_emb, epochs=20, validation_data=(val_emb, val_emb))"
      ],
      "execution_count": 19,
      "outputs": [
        {
          "output_type": "stream",
          "text": [
            "Epoch 1/20\n",
            "178/178 [==============================] - 1s 3ms/step - loss: 0.4604 - val_loss: 0.0544\n",
            "Epoch 2/20\n",
            "178/178 [==============================] - 0s 3ms/step - loss: 0.0480 - val_loss: 0.0440\n",
            "Epoch 3/20\n",
            "178/178 [==============================] - 0s 2ms/step - loss: 0.0420 - val_loss: 0.0399\n",
            "Epoch 4/20\n",
            "178/178 [==============================] - 0s 2ms/step - loss: 0.0394 - val_loss: 0.0370\n",
            "Epoch 5/20\n",
            "178/178 [==============================] - 0s 3ms/step - loss: 0.0384 - val_loss: 0.0366\n",
            "Epoch 6/20\n",
            "178/178 [==============================] - 0s 3ms/step - loss: 0.0371 - val_loss: 0.0389\n",
            "Epoch 7/20\n",
            "178/178 [==============================] - 0s 2ms/step - loss: 0.0369 - val_loss: 0.0360\n",
            "Epoch 8/20\n",
            "178/178 [==============================] - 0s 3ms/step - loss: 0.0361 - val_loss: 0.0353\n",
            "Epoch 9/20\n",
            "178/178 [==============================] - 0s 2ms/step - loss: 0.0361 - val_loss: 0.0375\n",
            "Epoch 10/20\n",
            "178/178 [==============================] - 0s 2ms/step - loss: 0.0358 - val_loss: 0.0352\n",
            "Epoch 11/20\n",
            "178/178 [==============================] - 0s 3ms/step - loss: 0.0357 - val_loss: 0.0363\n",
            "Epoch 12/20\n",
            "178/178 [==============================] - 0s 3ms/step - loss: 0.0353 - val_loss: 0.0354\n",
            "Epoch 13/20\n",
            "178/178 [==============================] - 0s 3ms/step - loss: 0.0353 - val_loss: 0.0359\n",
            "Epoch 14/20\n",
            "178/178 [==============================] - 0s 2ms/step - loss: 0.0352 - val_loss: 0.0354\n",
            "Epoch 15/20\n",
            "178/178 [==============================] - 0s 2ms/step - loss: 0.0351 - val_loss: 0.0354\n",
            "Epoch 16/20\n",
            "178/178 [==============================] - 0s 2ms/step - loss: 0.0346 - val_loss: 0.0400\n",
            "Epoch 17/20\n",
            "178/178 [==============================] - 0s 2ms/step - loss: 0.0349 - val_loss: 0.0341\n",
            "Epoch 18/20\n",
            "178/178 [==============================] - 0s 2ms/step - loss: 0.0347 - val_loss: 0.0342\n",
            "Epoch 19/20\n",
            "178/178 [==============================] - 0s 2ms/step - loss: 0.0343 - val_loss: 0.0352\n",
            "Epoch 20/20\n",
            "178/178 [==============================] - 0s 2ms/step - loss: 0.0344 - val_loss: 0.0343\n"
          ],
          "name": "stdout"
        },
        {
          "output_type": "execute_result",
          "data": {
            "text/plain": [
              "<tensorflow.python.keras.callbacks.History at 0x7fd2ea3fc910>"
            ]
          },
          "metadata": {
            "tags": []
          },
          "execution_count": 19
        }
      ]
    },
    {
      "cell_type": "code",
      "metadata": {
        "id": "qFs7bniT9-c3"
      },
      "source": [
        "def key_consine_similarity(tupple): \n",
        "  return tupple[1] \n",
        "def get_computed_similarities(vectors, predicted_vectors, reverse=False): \n",
        "  data_size = len(vectors) \n",
        "  cosine_similarities = [] \n",
        "  for i in range(data_size): \n",
        "    cosine_sim_val = (1 - cosine(vectors[i], predicted_vectors[i])) \n",
        "    cosine_similarities.append((i, cosine_sim_val)) \n",
        "  return sorted(cosine_similarities, key=key_consine_similarity, reverse=False) "
      ],
      "execution_count": 20,
      "outputs": []
    },
    {
      "cell_type": "code",
      "metadata": {
        "colab": {
          "base_uri": "https://localhost:8080/"
        },
        "id": "7Mkev5LiyNsA",
        "outputId": "61198053-0383-4f41-f691-07f661becee5"
      },
      "source": [
        "bert_autoencoder.evaluate(val_emb, val_emb)"
      ],
      "execution_count": 21,
      "outputs": [
        {
          "output_type": "stream",
          "text": [
            "21/21 [==============================] - 0s 1ms/step - loss: 0.0343\n"
          ],
          "name": "stdout"
        },
        {
          "output_type": "execute_result",
          "data": {
            "text/plain": [
              "0.034344226121902466"
            ]
          },
          "metadata": {
            "tags": []
          },
          "execution_count": 21
        }
      ]
    },
    {
      "cell_type": "code",
      "metadata": {
        "id": "9CnxNDPykOlb"
      },
      "source": [
        "pred_train_emb = bert_autoencoder.predict(train_emb)\n",
        "pred_val_emb = bert_autoencoder.predict(val_emb)\n",
        "pred_test_emb = bert_autoencoder.predict(test_emb)"
      ],
      "execution_count": 22,
      "outputs": []
    },
    {
      "cell_type": "code",
      "metadata": {
        "id": "rHBLMt-Vm8IF"
      },
      "source": [
        "train_cos_sim = get_computed_similarities(train_emb, pred_train_emb, reverse=False)\n",
        "val_cos_sim = get_computed_similarities(val_emb, pred_val_emb, reverse=False)\n",
        "test_cos_sim = get_computed_similarities(test_emb, pred_test_emb, reverse=False)"
      ],
      "execution_count": 23,
      "outputs": []
    },
    {
      "cell_type": "code",
      "metadata": {
        "colab": {
          "base_uri": "https://localhost:8080/"
        },
        "id": "hxBsarXInEVB",
        "outputId": "3a1bf2ae-0165-412b-93f3-3142a66e1176"
      },
      "source": [
        "result_df = pd.DataFrame(train_cos_sim)\n",
        "result_df = result_df.append(test_cos_sim,ignore_index=True)\n",
        "result_df.columns = ['idx','Cos_sim']\n",
        "result_df['Fraud'] = pd.Series()"
      ],
      "execution_count": 43,
      "outputs": [
        {
          "output_type": "stream",
          "text": [
            "/usr/local/lib/python3.7/dist-packages/ipykernel_launcher.py:4: DeprecationWarning: The default dtype for empty Series will be 'object' instead of 'float64' in a future version. Specify a dtype explicitly to silence this warning.\n",
            "  after removing the cwd from sys.path.\n"
          ],
          "name": "stderr"
        }
      ]
    },
    {
      "cell_type": "code",
      "metadata": {
        "colab": {
          "base_uri": "https://localhost:8080/"
        },
        "id": "2osoPKztoTpT",
        "outputId": "f779ab9e-2a53-4054-a604-1b513d724d50"
      },
      "source": [
        "result_df['Fraud'].iloc[:-len(anomaly_df)]= 'N'\n",
        "result_df['Fraud'].iloc[-len(anomaly_df):] = 'Y'"
      ],
      "execution_count": 44,
      "outputs": [
        {
          "output_type": "stream",
          "text": [
            "/usr/local/lib/python3.7/dist-packages/pandas/core/indexing.py:670: SettingWithCopyWarning: \n",
            "A value is trying to be set on a copy of a slice from a DataFrame\n",
            "\n",
            "See the caveats in the documentation: https://pandas.pydata.org/pandas-docs/stable/user_guide/indexing.html#returning-a-view-versus-a-copy\n",
            "  iloc._setitem_with_indexer(indexer, value)\n"
          ],
          "name": "stderr"
        }
      ]
    },
    {
      "cell_type": "code",
      "metadata": {
        "colab": {
          "base_uri": "https://localhost:8080/",
          "height": 465
        },
        "id": "OyvrMFH40Puv",
        "outputId": "af886064-b699-4b0b-fd97-a1baf0e221e3"
      },
      "source": [
        "sns.set(rc={'figure.figsize':(10,7)})  \n",
        "g = sns.stripplot(x='Cos_sim', y='Fraud', hue='Fraud', data=result_df[['Cos_sim','Fraud']], jitter=0.1, linewidth=0.1, palette=\"Set2\", size=10,) \n",
        "g. set_xlim([0,1]) "
      ],
      "execution_count": 49,
      "outputs": [
        {
          "output_type": "execute_result",
          "data": {
            "text/plain": [
              "(0.0, 1.0)"
            ]
          },
          "metadata": {
            "tags": []
          },
          "execution_count": 49
        },
        {
          "output_type": "display_data",
          "data": {
            "image/png": "[encoded data removed]",
            "text/plain": [
              "<Figure size 720x504 with 1 Axes>"
            ]
          },
          "metadata": {
            "tags": []
          }
        }
      ]
    },
    {
      "cell_type": "code",
      "metadata": {
        "id": "ZIOxWekO5gg4"
      },
      "source": [
        ""
      ],
      "execution_count": null,
      "outputs": []
    }
  ]
}